{
 "cells": [
  {
   "cell_type": "markdown",
   "id": "12dc768b",
   "metadata": {},
   "source": [
    "### Capstone Project- IMAGE PROCESSING"
   ]
  },
  {
   "cell_type": "markdown",
   "id": "9de6c1a7",
   "metadata": {},
   "source": [
    "In this Capstone Project task, I will use the MNIST database and use the Random Forest Classifier built into sklearn to create a classification model, and I will also be doing many other stuffs around this task as instructed.\n",
    "\n",
    "As stated by the creators of the dataset, “The MNIST database of handwritten digits, available from this page, has a training set of 60,000 examples, and a test set of 10,000 examples. It is a subset of a larger set available from NIST. The digits have been size-normalised and centred in a fixed-size image.”\n",
    "\n",
    "Let's get started with importing all the libraries we are going to work with and load the dataset."
   ]
  },
  {
   "cell_type": "code",
   "execution_count": 1,
   "id": "3570837f",
   "metadata": {},
   "outputs": [],
   "source": [
    "# Import the libraries\n",
    "import numpy as np\n",
    "import pandas as pd\n",
    "from sklearn.model_selection import train_test_split\n",
    "from sklearn.tree import DecisionTreeClassifier\n",
    "from sklearn.ensemble import RandomForestClassifier\n",
    "from sklearn.metrics import accuracy_score, f1_score, precision_score, recall_score, confusion_matrix, classification_report\n",
    "\n",
    "# Import libraries for visualization\n",
    "import matplotlib.pyplot as plt\n",
    "%matplotlib inline\n",
    "import seaborn as sns\n",
    "from sklearn.tree import export_graphviz, plot_tree\n",
    "from IPython.display import Image\n",
    "from subprocess import call"
   ]
  },
  {
   "cell_type": "code",
   "execution_count": 2,
   "id": "970caa29",
   "metadata": {},
   "outputs": [
    {
     "name": "stdout",
     "output_type": "stream",
     "text": [
      "Shape of Training data: (60000, 28, 28) (60000,)\n",
      "Type of Training data: uint8 uint8\n",
      "Shape of Test data: (10000, 28, 28) (10000,)\n",
      "Type of Test data: uint8 uint8\n"
     ]
    }
   ],
   "source": [
    "# Import the imnist dataset\n",
    "import keras\n",
    "from keras.datasets import mnist\n",
    "\n",
    "# Load the dataset using load_data() function\n",
    "mnist = mnist.load_data()\n",
    "\n",
    "# We know the dataset is pre-splitted into train set and test set in it's original form\n",
    "(X_train, y_train), (X_test, y_test) = mnist\n",
    "\n",
    "# Let's check the shape and type of our sets just to confirm that we have right dataset\n",
    "print(\"Shape of Training data:\", X_train.shape, y_train.shape)\n",
    "print(\"Type of Training data:\", X_train.dtype, y_train.dtype)\n",
    "print(\"Shape of Test data:\", X_test.shape, y_test.shape)\n",
    "print(\"Type of Test data:\", X_test.dtype, y_test.dtype)"
   ]
  },
  {
   "cell_type": "markdown",
   "id": "c26ddc02",
   "metadata": {},
   "source": [
    "Let's have a look at how the sample images look like:"
   ]
  },
  {
   "cell_type": "code",
   "execution_count": 3,
   "id": "10265e56",
   "metadata": {},
   "outputs": [
    {
     "data": {
      "image/png": "[encoded data removed]",
      "text/plain": [
       "<Figure size 500x500 with 12 Axes>"
      ]
     },
     "metadata": {},
     "output_type": "display_data"
    }
   ],
   "source": [
    "# Plot the 12 images in the training dataset\n",
    "fig, ax = plt.subplots(nrows=3, ncols=4, figsize=(5, 5))\n",
    "for i, axi in enumerate(ax.flat):\n",
    "    axi.imshow(X_train[i], cmap='gray')\n",
    "    axi.set(xticks=[], yticks=[], xlabel=y_train[i])"
   ]
  },
  {
   "cell_type": "markdown",
   "id": "5c107a2b",
   "metadata": {},
   "source": [
    "I'll now split the training data into training and development set."
   ]
  },
  {
   "cell_type": "code",
   "execution_count": 4,
   "id": "58905fb6",
   "metadata": {},
   "outputs": [
    {
     "name": "stdout",
     "output_type": "stream",
     "text": [
      "(48000, 28, 28)\n",
      "Shape of the Development data: (12000, 28, 28) (12000,)\n",
      "Type of Development data: uint8 uint8\n"
     ]
    }
   ],
   "source": [
    "# Split the training set into train set and development set\n",
    "X_train_new, X_dev, y_train_new, y_dev = train_test_split(X_train, y_train, test_size=0.20, random_state=40)\n",
    "print(X_train_new.shape)\n",
    "print(\"Shape of the Development data:\", X_dev.shape, y_dev.shape)\n",
    "print(\"Type of Development data:\", X_train.dtype, y_train.dtype)"
   ]
  },
  {
   "cell_type": "markdown",
   "id": "528c1609",
   "metadata": {},
   "source": [
    "The three different sets as we have above, Training set, Development set and Test set are very useful to make a accurate and efficient machine learning model. Training set is used to train a model, based on which the model learns the patterns and generalise it to apply thsese on other data. Development set is used to validate the training outcomes and improve the model if there's room for the improvements, and for sure there's always room for improvements. The third held-out set is Test set which is used to evaluate the final performance of the model. The test set is the new and independent subset of the original data that the model has not/should not have seen before.\n",
    "Basically these three subsets of the data ensures that the model learns well, and generalise the patterns and implement it well with new set of data."
   ]
  },
  {
   "cell_type": "code",
   "execution_count": 5,
   "id": "2e2af56f",
   "metadata": {},
   "outputs": [
    {
     "name": "stdout",
     "output_type": "stream",
     "text": [
      "The accuracy of our random forest classifier is 0.96925.\n"
     ]
    }
   ],
   "source": [
    "# Reshape the train set and dev set into a 2D array\n",
    "X_train_new = X_train_new.reshape(X_train_new.shape[0], -1)\n",
    "X_dev = X_dev.reshape(X_dev.shape[0], -1)\n",
    "\n",
    "# Create a random forest model\n",
    "rf_classifier = RandomForestClassifier(random_state=7)\n",
    "\n",
    "# Fit the train set to our model\n",
    "rf_classifier.fit(X_train_new, y_train_new)\n",
    "\n",
    "# Calculate the model's accuracy on dev set\n",
    "rforest_accuracy = accuracy_score(y_dev, rf_classifier.predict(X_dev))\n",
    "\n",
    "print(f\"The accuracy of our random forest classifier is {rforest_accuracy}.\")  "
   ]
  },
  {
   "cell_type": "markdown",
   "id": "ffa302e6",
   "metadata": {},
   "source": [
    "Now I'll pick \"n_estimators\" parameter improve the performance of the model, which means I'll be trying to train and evaluate separate models with different n_estimators values. This parameter determines the number of trees that are going to be built in our random forest model. I choose this parameter to tune the model because the adequate use of this parameter can reduce the problem of overfitting or underfitting which will result in having more accurate and efficient model.\n",
    "\n",
    "Effectively tuning this parameter will help us achive the best possible accuracy for our model."
   ]
  },
  {
   "cell_type": "markdown",
   "id": "21ba5a87",
   "metadata": {},
   "source": [
    "I'm going to define the range of values for \"n_estimators\" and train and evaluate each model for all the values."
   ]
  },
  {
   "cell_type": "code",
   "execution_count": 6,
   "id": "eb62289d",
   "metadata": {},
   "outputs": [
    {
     "name": "stdout",
     "output_type": "stream",
     "text": [
      "The best accuracy is 0.96975.\n",
      "The optimum n_estimators value is 160.\n"
     ]
    }
   ],
   "source": [
    "# Define the range for n_estimators\n",
    "estimators_range = range(80, 300, 80)\n",
    "\n",
    "# Train and evaluate random forest model for each value of n_estimator, we do this using for loop\n",
    "best_accuracy = 0\n",
    "best_estimators = None\n",
    "for n_estimators in estimators_range:\n",
    "    # Create a random forest model\n",
    "    rf_classifier = RandomForestClassifier(n_estimators=n_estimators, random_state=7)\n",
    "\n",
    "    # Fit the model on the train set\n",
    "    rf_classifier.fit(X_train_new, y_train_new)\n",
    "\n",
    "    # Calculate the model's accuracy on dev set\n",
    "    accuracy = accuracy_score(y_dev, rf_classifier.predict(X_dev))\n",
    "\n",
    "    # Using if statement to update best_accuracy with the best one, also record the n_estimators\n",
    "    if accuracy > best_accuracy:\n",
    "        best_accuracy = accuracy\n",
    "        best_estimators = n_estimators\n",
    "\n",
    "# Print out the results\n",
    "print(f\"The best accuracy is {best_accuracy}.\")\n",
    "print(f\"The optimum n_estimators value is {best_estimators}.\")"
   ]
  },
  {
   "cell_type": "markdown",
   "id": "79523f63",
   "metadata": {},
   "source": [
    "As we can observe the results above, while testing ranges of n_estimators value for the best accuracy, we achieved is 0.96975 when the value for n_estimators is 160. Now, I'm going to choose 160 as a value of the paramater for testing our model on the test data.\n",
    "\n",
    "I'm going to train the final model on the whole of our original training set with optimum n_estimators value that we have and test the model on held-out test set we have."
   ]
  },
  {
   "cell_type": "code",
   "execution_count": 7,
   "id": "71f52ea1",
   "metadata": {},
   "outputs": [
    {
     "name": "stdout",
     "output_type": "stream",
     "text": [
      "The accuracy of our random forest classifier is 0.9694.\n"
     ]
    }
   ],
   "source": [
    "# Train the final model on the full training set with the optimum n_estimators value we have\n",
    "rf_classifier_final = RandomForestClassifier(n_estimators=best_estimators, random_state=7)\n",
    "\n",
    "# Reshape the original train set and test set and into a 2D array\n",
    "X_train = X_train.reshape(X_train.shape[0], -1)\n",
    "X_test = X_test.reshape(X_test.shape[0], -1)\n",
    "\n",
    "# Fit the train set to our model\n",
    "rf_classifier_final.fit(X_train, y_train)\n",
    "\n",
    "# Make prediction on the test set\n",
    "y_pred = rf_classifier_final.predict(X_test)\n",
    "\n",
    "# Calculate the model's accuracy on test set\n",
    "rforest_accuracy_final = accuracy_score(y_test, y_pred)\n",
    "\n",
    "print(f\"The accuracy of our random forest classifier is {rforest_accuracy_final}.\") "
   ]
  },
  {
   "cell_type": "markdown",
   "id": "7fbfb89a",
   "metadata": {},
   "source": [
    "Let's print the confusion matrix for our random forest model on the test set and see what it has to tell us."
   ]
  },
  {
   "cell_type": "code",
   "execution_count": 8,
   "id": "7ee2a161",
   "metadata": {},
   "outputs": [
    {
     "name": "stdout",
     "output_type": "stream",
     "text": [
      "[[ 969    0    1    0    0    2    3    1    4    0]\n",
      " [   0 1122    3    3    0    2    3    0    2    0]\n",
      " [   6    0  997    7    3    0    4    8    7    0]\n",
      " [   0    0   12  971    0    6    0   10    7    4]\n",
      " [   1    0    1    0  959    0    5    0    2   14]\n",
      " [   2    0    0   13    2  860    7    1    5    2]\n",
      " [   5    3    1    0    3    5  937    0    4    0]\n",
      " [   1    3   20    1    1    0    0  991    1   10]\n",
      " [   4    0    5    8    5    5    4    4  929   10]\n",
      " [   6    5    1   10   12    3    1    5    7  959]]\n"
     ]
    }
   ],
   "source": [
    "# Generate and print confusion matrix\n",
    "cm = confusion_matrix(y_test, y_pred)\n",
    "print(cm)"
   ]
  },
  {
   "cell_type": "markdown",
   "id": "87a2fabe",
   "metadata": {},
   "source": [
    "The above confusion matrix represents the multi-class classification problems. Each row indicates the actual class, and each column indicates the predicted class. The diagonal values indicates the number of samples that were accurately classified as the classes they belong, and the 0ff-diagonal values indicates that they were wrongfully classified into other classes.\n",
    "\n",
    "As we can observe on the confusion matrix, we can say that the class 5 (i.e. 6th row/column) struggles the most with our model. It has the lowest number of instances of correct classification, and on the top of that, it also has the significantly high number of samples which are mis-classified. This particular class has accurately classified 860 instances, and mis-classified the total of 23 instances. The class number 1 seems to perform very well with the model having classified 1122 instances accurately."
   ]
  },
  {
   "cell_type": "code",
   "execution_count": 10,
   "id": "f92558ca",
   "metadata": {},
   "outputs": [
    {
     "name": "stdout",
     "output_type": "stream",
     "text": [
      "Accuracy: 0.9694\n",
      "Classification Report:\n",
      "               precision    recall  f1-score   support\n",
      "\n",
      "           0       0.97      0.99      0.98       980\n",
      "           1       0.99      0.99      0.99      1135\n",
      "           2       0.96      0.97      0.96      1032\n",
      "           3       0.96      0.96      0.96      1010\n",
      "           4       0.97      0.98      0.98       982\n",
      "           5       0.97      0.96      0.97       892\n",
      "           6       0.97      0.98      0.98       958\n",
      "           7       0.97      0.96      0.97      1028\n",
      "           8       0.96      0.95      0.96       974\n",
      "           9       0.96      0.95      0.96      1009\n",
      "\n",
      "    accuracy                           0.97     10000\n",
      "   macro avg       0.97      0.97      0.97     10000\n",
      "weighted avg       0.97      0.97      0.97     10000\n",
      "\n"
     ]
    }
   ],
   "source": [
    "# Calculate the accuracy score\n",
    "accuracy = accuracy_score(y_test, y_pred)\n",
    "\n",
    "# Calculate precision, recall, and f1-score using a function classification_report\n",
    "report = classification_report(y_test, y_pred)\n",
    "\n",
    "# Print out the results\n",
    "print(\"Accuracy:\", accuracy)\n",
    "print(\"Classification Report:\\n\", report)"
   ]
  },
  {
   "cell_type": "markdown",
   "id": "8ef1f962",
   "metadata": {},
   "source": [
    "We have calculated the accuracy score, and used classification_report to calculate precision, recall and f1 score. The above results tell us a lot about our model's performance. As we can see, the weighted precision score, recall score and f1_score is roughly around 0.97 which is pretty decent. Our model having precision score of 0.97 simply means that 97% of instances are actually positive out of all instances that our model predicted as positive. 0.97 recall score tells us that our model was able to correctly identify 97% out of all acutal positive instances. F1-score of 0.97 simply tells our model performs with high precision and recall.\n",
    "\n",
    "Accuracy score of approx 0.97 means that our random forest model is accurately predicting class labels with 97%b accuracy, or say the 97% of instances are correct prediction."
   ]
  }
 ],
 "metadata": {
  "kernelspec": {
   "display_name": "Python 3 (ipykernel)",
   "language": "python",
   "name": "python3"
  },
  "language_info": {
   "codemirror_mode": {
    "name": "ipython",
    "version": 3
   },
   "file_extension": ".py",
   "mimetype": "text/x-python",
   "name": "python",
   "nbconvert_exporter": "python",
   "pygments_lexer": "ipython3",
   "version": "3.11.0"
  }
 },
 "nbformat": 4,
 "nbformat_minor": 5
}
